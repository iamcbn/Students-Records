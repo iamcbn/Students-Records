{
  "cells": [
    {
      "cell_type": "markdown",
      "metadata": {
        "id": "TYkUNMqn_pNS"
      },
      "source": [
        "Installing Faker"
      ]
    },
    {
      "cell_type": "code",
      "execution_count": null,
      "metadata": {
        "colab": {
          "base_uri": "https://localhost:8080/"
        },
        "id": "gjnHDwwK-1we",
        "outputId": "c20be69d-91be-451b-91c9-5886abfaf69d"
      },
      "outputs": [],
      "source": [
        "pip install faker"
      ]
    },
    {
      "cell_type": "markdown",
      "metadata": {
        "id": "O74GNTYt_X-X"
      },
      "source": [
        "Importing the neccessary Libraries"
      ]
    },
    {
      "cell_type": "code",
      "execution_count": null,
      "metadata": {
        "id": "gEJVdT3r_Qi7"
      },
      "outputs": [],
      "source": [
        "import random\n",
        "import pandas as pd\n",
        "from faker import Faker"
      ]
    },
    {
      "cell_type": "markdown",
      "metadata": {
        "id": "slfH3YqJBO99"
      },
      "source": [
        "It is time to generate the data"
      ]
    },
    {
      "cell_type": "code",
      "execution_count": null,
      "metadata": {
        "id": "V93vuLnv_y5h"
      },
      "outputs": [],
      "source": [
        "# To call faker to work\n",
        "fake = Faker()\n",
        "\n",
        "# This is to set a limit (maximum score).\n",
        "def generate_score(max_score):\n",
        "    return random.randint(0, max_score)\n",
        "\n",
        "# We are defining our columns\n",
        "def generate_student_row(student_number, student_class):\n",
        "    first_name = fake.first_name()\n",
        "    last_name = fake.last_name()\n",
        "    gender = random.choice(['Male', 'Female', 'Others'])\n",
        "    math_ca_score = generate_score(30)\n",
        "    math_exam_score = generate_score(70)\n",
        "    english_ca_score = generate_score(30)\n",
        "    english_exam_score = generate_score(70)\n",
        "    physics_ca_score = generate_score(30)\n",
        "    physics_exam_score = generate_score(70)\n",
        "    chemistry_ca_score = generate_score(30)\n",
        "    chemistry_exam_score = generate_score(70)\n",
        "    biology_ca_score = generate_score(30)\n",
        "    biology_exam_score = generate_score(70)\n",
        "    geography_ca_score = generate_score(30)\n",
        "    geography_exam_score = generate_score(70)\n",
        "    fine_art_ca_score = generate_score(30)\n",
        "    fine_art_exam_score = generate_score(70)\n",
        "    computer_science_ca_score = generate_score(30)\n",
        "    computer_science_exam_score = generate_score(70)\n",
        "    economics_ca_score = generate_score(30)\n",
        "    economics_exam_score = generate_score(70)\n",
        "\n",
        "    return (\n",
        "        student_number, first_name, last_name, student_class, gender,\n",
        "        math_ca_score, math_exam_score, english_ca_score, english_exam_score,\n",
        "        physics_ca_score, physics_exam_score, chemistry_ca_score, chemistry_exam_score,\n",
        "        biology_ca_score, biology_exam_score, geography_ca_score, geography_exam_score,\n",
        "        fine_art_ca_score, fine_art_exam_score, computer_science_ca_score, computer_science_exam_score,\n",
        "        economics_ca_score, economics_exam_score\n",
        "    )"
      ]
    },
    {
      "cell_type": "markdown",
      "metadata": {
        "id": "Hx2YynGcCPlK"
      },
      "source": [
        "Here, I am setting a limit to the records and number of available classes.\n",
        "\n",
        "Also, I want the number of students to be equal across the classes."
      ]
    },
    {
      "cell_type": "code",
      "execution_count": null,
      "metadata": {
        "id": "iDQJuOUiFt5W"
      },
      "outputs": [],
      "source": [
        "# Setting the records' limit\n",
        "num_student = 600\n",
        "num_classes = 10\n",
        "\n",
        "# Calculate the number of rows per class\n",
        "student_per_class = num_student // num_classes\n",
        "\n",
        "# List to store all the rows\n",
        "student_rec = []\n",
        "\n",
        "# Generating dataset\n",
        "for class_index in range(1, num_classes + 1):\n",
        "    for i in range(1, student_per_class + 1):\n",
        "        student_number = 24000 + (class_index - 1) * student_per_class + i  # I want the number to be in the range of 24000\n",
        "        student_rec.append(generate_student_row(student_number, chr(64 + class_index)))"
      ]
    },
    {
      "cell_type": "markdown",
      "metadata": {
        "id": "hJvSEHZYH_v0"
      },
      "source": [
        "Time to structure the dataset"
      ]
    },
    {
      "cell_type": "code",
      "execution_count": null,
      "metadata": {
        "id": "179F848wIAiE"
      },
      "outputs": [],
      "source": [
        "# Defining our DataFrame\n",
        "columns = [\n",
        "    'Student Number', 'First Name', 'Last Name', 'Student Class', 'Gender',\n",
        "    'Math CA Score', 'Math Exam Score', 'English CA Score', 'English Exam Score',\n",
        "    'Physics CA Score', 'Physics Exam Score', 'Chemistry CA Score', 'Chemistry Exam Score',\n",
        "    'Biology CA Score', 'Biology Exam Score', 'Geography CA Score', 'Geography Exam Score',\n",
        "    'Fine Art CA Score', 'Fine Art Exam Score', 'Computer Science CA Score', 'Computer Science Exam Score',\n",
        "    'Economics CA Score', 'Economics Exam Score'\n",
        "]\n",
        "\n",
        "df = pd.DataFrame(student_rec, columns=columns)"
      ]
    },
    {
      "cell_type": "markdown",
      "metadata": {
        "id": "mcIbIRx8JVeC"
      },
      "source": [
        "Saving it to our PC"
      ]
    },
    {
      "cell_type": "code",
      "execution_count": null,
      "metadata": {
        "colab": {
          "base_uri": "https://localhost:8080/"
        },
        "id": "EnQOJwDsJWNf",
        "outputId": "2bfa0c4d-8b16-451e-f242-4427aad14001"
      },
      "outputs": [],
      "source": [
        "# Save the DataFrame to an Excel file\n",
        "\n",
        "\n",
        "df.to_excel(r\"C:\\Users\\Bruno Nwagbo\\Desktop\\Data\\Excel Project\\New folder\\Student Records.xlsx\", index = False )\n",
        "\n",
        "print(\"Dataset exported to PC\")"
      ]
    }
  ],
  "metadata": {
    "colab": {
      "provenance": []
    },
    "kernelspec": {
      "display_name": "Python 3",
      "name": "python3"
    },
    "language_info": {
      "name": "python"
    }
  },
  "nbformat": 4,
  "nbformat_minor": 0
}
